{
 "cells": [
  {
   "cell_type": "markdown",
   "id": "8f537cd9-611d-4a16-b6cd-c5193b402bd9",
   "metadata": {},
   "source": [
    "# Logfile analyser and visualiser"
   ]
  },
  {
   "cell_type": "code",
   "execution_count": 1,
   "id": "initial_id",
   "metadata": {
    "ExecuteTime": {
     "start_time": "2025-01-12T14:33:50.890093Z"
    },
    "jupyter": {
     "is_executing": true
    }
   },
   "outputs": [],
   "source": [
    "import pandas as pd\n",
    "import networkx as nx\n",
    "import matplotlib.pyplot as plt\n"
   ]
  },
  {
   "cell_type": "markdown",
   "id": "8188dd5e-0106-4545-b100-7b01c78d0e82",
   "metadata": {},
   "source": [
    "Importing the necesary libary's to make this project possible\n",
    "* Pandas is used for data manipulation and handeling(might be changed to polars soon)\n",
    "* networkx is used to make visuals for the relation between ip adresses(is still work in porgress and thus dont know if i will keel it in)\n",
    "* matplotlib is used to make the plots "
   ]
  },
  {
   "cell_type": "code",
   "execution_count": 2,
   "id": "c173252c-cbb4-455e-8cbb-dfa046f422dd",
   "metadata": {},
   "outputs": [
    {
     "name": "stderr",
     "output_type": "stream",
     "text": [
      "<>:1: SyntaxWarning: invalid escape sequence '\\P'\n",
      "<>:1: SyntaxWarning: invalid escape sequence '\\P'\n",
      "C:\\Users\\jelle\\AppData\\Local\\Temp\\ipykernel_4776\\3847094896.py:1: SyntaxWarning: invalid escape sequence '\\P'\n",
      "  df = pd.read_csv(\"E:\\Programmeren\\Tarball analyse\\merged.csv\")\n"
     ]
    },
    {
     "data": {
      "text/html": [
       "<div>\n",
       "<style scoped>\n",
       "    .dataframe tbody tr th:only-of-type {\n",
       "        vertical-align: middle;\n",
       "    }\n",
       "\n",
       "    .dataframe tbody tr th {\n",
       "        vertical-align: top;\n",
       "    }\n",
       "\n",
       "    .dataframe thead th {\n",
       "        text-align: right;\n",
       "    }\n",
       "</style>\n",
       "<table border=\"1\" class=\"dataframe\">\n",
       "  <thead>\n",
       "    <tr style=\"text-align: right;\">\n",
       "      <th></th>\n",
       "      <th>Unnamed: 0.1</th>\n",
       "      <th>time</th>\n",
       "      <th>state</th>\n",
       "      <th>message</th>\n",
       "      <th>Unnamed: 0</th>\n",
       "    </tr>\n",
       "  </thead>\n",
       "  <tbody>\n",
       "    <tr>\n",
       "      <th>0</th>\n",
       "      <td>0</td>\n",
       "      <td>15:57:34</td>\n",
       "      <td>STAT</td>\n",
       "      <td>Starting FairMQ state machine</td>\n",
       "      <td>0.0</td>\n",
       "    </tr>\n",
       "    <tr>\n",
       "      <th>1</th>\n",
       "      <td>1</td>\n",
       "      <td>15:57:35</td>\n",
       "      <td>DEBU</td>\n",
       "      <td>Requesting 'zeromq' as default transport for t...</td>\n",
       "      <td>1.0</td>\n",
       "    </tr>\n",
       "    <tr>\n",
       "      <th>2</th>\n",
       "      <td>2</td>\n",
       "      <td>15:57:35</td>\n",
       "      <td>DEBU</td>\n",
       "      <td>Transport: Using ZeroMQ library, version: 4.2.0</td>\n",
       "      <td>2.0</td>\n",
       "    </tr>\n",
       "    <tr>\n",
       "      <th>3</th>\n",
       "      <td>3</td>\n",
       "      <td>15:57:35</td>\n",
       "      <td>DEBU</td>\n",
       "      <td>Adding 'zeromq' transport to the device.</td>\n",
       "      <td>3.0</td>\n",
       "    </tr>\n",
       "    <tr>\n",
       "      <th>4</th>\n",
       "      <td>4</td>\n",
       "      <td>15:57:35</td>\n",
       "      <td>STAT</td>\n",
       "      <td>Entering INITIALIZING DEVICE state</td>\n",
       "      <td>4.0</td>\n",
       "    </tr>\n",
       "    <tr>\n",
       "      <th>...</th>\n",
       "      <td>...</td>\n",
       "      <td>...</td>\n",
       "      <td>...</td>\n",
       "      <td>...</td>\n",
       "      <td>...</td>\n",
       "    </tr>\n",
       "    <tr>\n",
       "      <th>28188318</th>\n",
       "      <td>28188318</td>\n",
       "      <td>07:59:42</td>\n",
       "      <td>INFO</td>\n",
       "      <td>Timeframe #17303 received from 172.20.22.31  a...</td>\n",
       "      <td>440029.0</td>\n",
       "    </tr>\n",
       "    <tr>\n",
       "      <th>28188319</th>\n",
       "      <td>28188319</td>\n",
       "      <td>07:59:42</td>\n",
       "      <td>INFO</td>\n",
       "      <td>Timeframe #17304 received from 172.20.22.31  a...</td>\n",
       "      <td>440030.0</td>\n",
       "    </tr>\n",
       "    <tr>\n",
       "      <th>28188320</th>\n",
       "      <td>28188320</td>\n",
       "      <td>07:59:42</td>\n",
       "      <td>INFO</td>\n",
       "      <td>Timeframe #17305 received from 172.20.22.31  a...</td>\n",
       "      <td>440031.0</td>\n",
       "    </tr>\n",
       "    <tr>\n",
       "      <th>28188321</th>\n",
       "      <td>28188321</td>\n",
       "      <td>07:59:42</td>\n",
       "      <td>INFO</td>\n",
       "      <td>Timeframe #17306 received from 172.20.22.31  a...</td>\n",
       "      <td>440032.0</td>\n",
       "    </tr>\n",
       "    <tr>\n",
       "      <th>28188322</th>\n",
       "      <td>28188322</td>\n",
       "      <td>07:59:42</td>\n",
       "      <td>INFO</td>\n",
       "      <td>Timeframe #17307 received from 172.20.22.31  a...</td>\n",
       "      <td>440033.0</td>\n",
       "    </tr>\n",
       "  </tbody>\n",
       "</table>\n",
       "<p>28188323 rows × 5 columns</p>\n",
       "</div>"
      ],
      "text/plain": [
       "          Unnamed: 0.1      time state  \\\n",
       "0                    0  15:57:34  STAT   \n",
       "1                    1  15:57:35  DEBU   \n",
       "2                    2  15:57:35  DEBU   \n",
       "3                    3  15:57:35  DEBU   \n",
       "4                    4  15:57:35  STAT   \n",
       "...                ...       ...   ...   \n",
       "28188318      28188318  07:59:42  INFO   \n",
       "28188319      28188319  07:59:42  INFO   \n",
       "28188320      28188320  07:59:42  INFO   \n",
       "28188321      28188321  07:59:42  INFO   \n",
       "28188322      28188322  07:59:42  INFO   \n",
       "\n",
       "                                                    message  Unnamed: 0  \n",
       "0                             Starting FairMQ state machine         0.0  \n",
       "1         Requesting 'zeromq' as default transport for t...         1.0  \n",
       "2           Transport: Using ZeroMQ library, version: 4.2.0         2.0  \n",
       "3                  Adding 'zeromq' transport to the device.         3.0  \n",
       "4                        Entering INITIALIZING DEVICE state         4.0  \n",
       "...                                                     ...         ...  \n",
       "28188318  Timeframe #17303 received from 172.20.22.31  a...    440029.0  \n",
       "28188319  Timeframe #17304 received from 172.20.22.31  a...    440030.0  \n",
       "28188320  Timeframe #17305 received from 172.20.22.31  a...    440031.0  \n",
       "28188321  Timeframe #17306 received from 172.20.22.31  a...    440032.0  \n",
       "28188322  Timeframe #17307 received from 172.20.22.31  a...    440033.0  \n",
       "\n",
       "[28188323 rows x 5 columns]"
      ]
     },
     "execution_count": 2,
     "metadata": {},
     "output_type": "execute_result"
    }
   ],
   "source": [
    "df = pd.read_csv(\"E:\\Programmeren\\Tarball analyse\\merged.csv\")\n",
    "df"
   ]
  },
  {
   "cell_type": "markdown",
   "id": "ded04d32-5eaa-44f4-a2a9-28f04580223b",
   "metadata": {},
   "source": [
    "Read the .csv file using pandas. and note that i used a file called merged.csv. That is because i had a few 100 .log files and i put them into 1 file for easy handeling and faster processing.\n",
    "See the other .py code in my repo for the code to combine those files"
   ]
  },
  {
   "cell_type": "code",
   "execution_count": 3,
   "id": "719647ba-32c8-4c34-b46e-9b3cae064bea",
   "metadata": {},
   "outputs": [
    {
     "name": "stdout",
     "output_type": "stream",
     "text": [
      "rows: 28188323, columns: 5\n"
     ]
    }
   ],
   "source": [
    "row, column = df.shape\n",
    "print(f\"rows: {row}, columns: {column}\")"
   ]
  },
  {
   "cell_type": "markdown",
   "id": "b7b8f7fa-77ba-47b7-a74d-e7a2c2414703",
   "metadata": {},
   "source": [
    "This is a massive file(no wonder my pc took its time processing all the .log files into 1 csv ;))\n",
    "It has 28+ million rows\n",
    "and only 5 columns."
   ]
  },
  {
   "cell_type": "code",
   "execution_count": 4,
   "id": "e368147f-0a02-4f22-92c0-7367edeeaad4",
   "metadata": {
    "ExecuteTime": {
     "end_time": "2025-01-10T12:28:23.603195Z",
     "start_time": "2025-01-10T12:28:23.601550Z"
    }
   },
   "outputs": [],
   "source": [
    "df = df.drop(\"Unnamed: 0.1\", axis=1)\n",
    "df = df.drop(\"Unnamed: 0\", axis=1)"
   ]
  },
  {
   "cell_type": "markdown",
   "id": "3dddcc58-5a4c-49a7-b5b3-7458ee381fff",
   "metadata": {},
   "source": [
    "2 of the 5 columns did not survive and got dropped due to useless info"
   ]
  },
  {
   "cell_type": "code",
   "execution_count": 5,
   "id": "73cd1bf1-4222-4f06-84fc-1b7a1487561e",
   "metadata": {},
   "outputs": [
    {
     "data": {
      "text/html": [
       "<div>\n",
       "<style scoped>\n",
       "    .dataframe tbody tr th:only-of-type {\n",
       "        vertical-align: middle;\n",
       "    }\n",
       "\n",
       "    .dataframe tbody tr th {\n",
       "        vertical-align: top;\n",
       "    }\n",
       "\n",
       "    .dataframe thead th {\n",
       "        text-align: right;\n",
       "    }\n",
       "</style>\n",
       "<table border=\"1\" class=\"dataframe\">\n",
       "  <thead>\n",
       "    <tr style=\"text-align: right;\">\n",
       "      <th></th>\n",
       "      <th>time</th>\n",
       "      <th>state</th>\n",
       "      <th>message</th>\n",
       "    </tr>\n",
       "  </thead>\n",
       "  <tbody>\n",
       "    <tr>\n",
       "      <th>0</th>\n",
       "      <td>15:57:34</td>\n",
       "      <td>STAT</td>\n",
       "      <td>Starting FairMQ state machine</td>\n",
       "    </tr>\n",
       "    <tr>\n",
       "      <th>1</th>\n",
       "      <td>15:57:35</td>\n",
       "      <td>DEBU</td>\n",
       "      <td>Requesting 'zeromq' as default transport for t...</td>\n",
       "    </tr>\n",
       "    <tr>\n",
       "      <th>2</th>\n",
       "      <td>15:57:35</td>\n",
       "      <td>DEBU</td>\n",
       "      <td>Transport: Using ZeroMQ library, version: 4.2.0</td>\n",
       "    </tr>\n",
       "    <tr>\n",
       "      <th>3</th>\n",
       "      <td>15:57:35</td>\n",
       "      <td>DEBU</td>\n",
       "      <td>Adding 'zeromq' transport to the device.</td>\n",
       "    </tr>\n",
       "    <tr>\n",
       "      <th>4</th>\n",
       "      <td>15:57:35</td>\n",
       "      <td>STAT</td>\n",
       "      <td>Entering INITIALIZING DEVICE state</td>\n",
       "    </tr>\n",
       "    <tr>\n",
       "      <th>...</th>\n",
       "      <td>...</td>\n",
       "      <td>...</td>\n",
       "      <td>...</td>\n",
       "    </tr>\n",
       "    <tr>\n",
       "      <th>28188318</th>\n",
       "      <td>07:59:42</td>\n",
       "      <td>INFO</td>\n",
       "      <td>Timeframe #17303 received from 172.20.22.31  a...</td>\n",
       "    </tr>\n",
       "    <tr>\n",
       "      <th>28188319</th>\n",
       "      <td>07:59:42</td>\n",
       "      <td>INFO</td>\n",
       "      <td>Timeframe #17304 received from 172.20.22.31  a...</td>\n",
       "    </tr>\n",
       "    <tr>\n",
       "      <th>28188320</th>\n",
       "      <td>07:59:42</td>\n",
       "      <td>INFO</td>\n",
       "      <td>Timeframe #17305 received from 172.20.22.31  a...</td>\n",
       "    </tr>\n",
       "    <tr>\n",
       "      <th>28188321</th>\n",
       "      <td>07:59:42</td>\n",
       "      <td>INFO</td>\n",
       "      <td>Timeframe #17306 received from 172.20.22.31  a...</td>\n",
       "    </tr>\n",
       "    <tr>\n",
       "      <th>28188322</th>\n",
       "      <td>07:59:42</td>\n",
       "      <td>INFO</td>\n",
       "      <td>Timeframe #17307 received from 172.20.22.31  a...</td>\n",
       "    </tr>\n",
       "  </tbody>\n",
       "</table>\n",
       "<p>28188323 rows × 3 columns</p>\n",
       "</div>"
      ],
      "text/plain": [
       "              time state                                            message\n",
       "0         15:57:34  STAT                      Starting FairMQ state machine\n",
       "1         15:57:35  DEBU  Requesting 'zeromq' as default transport for t...\n",
       "2         15:57:35  DEBU    Transport: Using ZeroMQ library, version: 4.2.0\n",
       "3         15:57:35  DEBU           Adding 'zeromq' transport to the device.\n",
       "4         15:57:35  STAT                 Entering INITIALIZING DEVICE state\n",
       "...            ...   ...                                                ...\n",
       "28188318  07:59:42  INFO  Timeframe #17303 received from 172.20.22.31  a...\n",
       "28188319  07:59:42  INFO  Timeframe #17304 received from 172.20.22.31  a...\n",
       "28188320  07:59:42  INFO  Timeframe #17305 received from 172.20.22.31  a...\n",
       "28188321  07:59:42  INFO  Timeframe #17306 received from 172.20.22.31  a...\n",
       "28188322  07:59:42  INFO  Timeframe #17307 received from 172.20.22.31  a...\n",
       "\n",
       "[28188323 rows x 3 columns]"
      ]
     },
     "execution_count": 5,
     "metadata": {},
     "output_type": "execute_result"
    }
   ],
   "source": [
    "df"
   ]
  },
  {
   "cell_type": "markdown",
   "id": "2fa48d5b-0215-4a88-89cb-7ac87ba4dab6",
   "metadata": {},
   "source": [
    "Show the df"
   ]
  },
  {
   "cell_type": "code",
   "execution_count": 6,
   "id": "0a428d0e-1e82-4b3c-a0e7-7cc1ece08c0b",
   "metadata": {},
   "outputs": [
    {
     "data": {
      "text/plain": [
       "'23:54:51'"
      ]
     },
     "execution_count": 6,
     "metadata": {},
     "output_type": "execute_result"
    }
   ],
   "source": [
    "df.max(axis=0)[\"time\"]"
   ]
  },
  {
   "cell_type": "markdown",
   "id": "df7c18f2-689f-4241-9017-af8254d2400a",
   "metadata": {},
   "source": [
    "Check what was the lates time a packet was recieved"
   ]
  },
  {
   "cell_type": "code",
   "execution_count": 7,
   "id": "72e5487e-e840-467f-9f06-c723962be89f",
   "metadata": {},
   "outputs": [
    {
     "data": {
      "text/plain": [
       "'00:03:01'"
      ]
     },
     "execution_count": 7,
     "metadata": {},
     "output_type": "execute_result"
    }
   ],
   "source": [
    "df.min(axis=0)[\"time\"]"
   ]
  },
  {
   "cell_type": "markdown",
   "id": "222ceaa4-f5b0-4df2-8f1b-9675d5f57f8d",
   "metadata": {},
   "source": [
    "Check what was the earliest time a packet was recieved"
   ]
  },
  {
   "cell_type": "code",
   "execution_count": 8,
   "id": "efa31e11-e27c-4dea-8ef0-7aa85aa96312",
   "metadata": {},
   "outputs": [
    {
     "data": {
      "text/html": [
       "<div>\n",
       "<style scoped>\n",
       "    .dataframe tbody tr th:only-of-type {\n",
       "        vertical-align: middle;\n",
       "    }\n",
       "\n",
       "    .dataframe tbody tr th {\n",
       "        vertical-align: top;\n",
       "    }\n",
       "\n",
       "    .dataframe thead th {\n",
       "        text-align: right;\n",
       "    }\n",
       "</style>\n",
       "<table border=\"1\" class=\"dataframe\">\n",
       "  <thead>\n",
       "    <tr style=\"text-align: right;\">\n",
       "      <th></th>\n",
       "      <th>time</th>\n",
       "      <th>state</th>\n",
       "      <th>message</th>\n",
       "    </tr>\n",
       "  </thead>\n",
       "  <tbody>\n",
       "    <tr>\n",
       "      <th>28</th>\n",
       "      <td>15:57:40</td>\n",
       "      <td>INFO</td>\n",
       "      <td>Timeframe #239 received from 172.20.22.20  ack...</td>\n",
       "    </tr>\n",
       "    <tr>\n",
       "      <th>29</th>\n",
       "      <td>15:57:40</td>\n",
       "      <td>INFO</td>\n",
       "      <td>Timeframe #233 received from 172.20.22.26  ack...</td>\n",
       "    </tr>\n",
       "    <tr>\n",
       "      <th>30</th>\n",
       "      <td>15:57:40</td>\n",
       "      <td>INFO</td>\n",
       "      <td>Timeframe #242 received from 172.20.22.29  ack...</td>\n",
       "    </tr>\n",
       "    <tr>\n",
       "      <th>31</th>\n",
       "      <td>15:57:40</td>\n",
       "      <td>INFO</td>\n",
       "      <td>Timeframe #251 received from 172.20.22.20  ack...</td>\n",
       "    </tr>\n",
       "    <tr>\n",
       "      <th>32</th>\n",
       "      <td>15:57:41</td>\n",
       "      <td>INFO</td>\n",
       "      <td>Timeframe #237 received from 172.20.22.22  ack...</td>\n",
       "    </tr>\n",
       "    <tr>\n",
       "      <th>...</th>\n",
       "      <td>...</td>\n",
       "      <td>...</td>\n",
       "      <td>...</td>\n",
       "    </tr>\n",
       "    <tr>\n",
       "      <th>28188318</th>\n",
       "      <td>07:59:42</td>\n",
       "      <td>INFO</td>\n",
       "      <td>Timeframe #17303 received from 172.20.22.31  a...</td>\n",
       "    </tr>\n",
       "    <tr>\n",
       "      <th>28188319</th>\n",
       "      <td>07:59:42</td>\n",
       "      <td>INFO</td>\n",
       "      <td>Timeframe #17304 received from 172.20.22.31  a...</td>\n",
       "    </tr>\n",
       "    <tr>\n",
       "      <th>28188320</th>\n",
       "      <td>07:59:42</td>\n",
       "      <td>INFO</td>\n",
       "      <td>Timeframe #17305 received from 172.20.22.31  a...</td>\n",
       "    </tr>\n",
       "    <tr>\n",
       "      <th>28188321</th>\n",
       "      <td>07:59:42</td>\n",
       "      <td>INFO</td>\n",
       "      <td>Timeframe #17306 received from 172.20.22.31  a...</td>\n",
       "    </tr>\n",
       "    <tr>\n",
       "      <th>28188322</th>\n",
       "      <td>07:59:42</td>\n",
       "      <td>INFO</td>\n",
       "      <td>Timeframe #17307 received from 172.20.22.31  a...</td>\n",
       "    </tr>\n",
       "  </tbody>\n",
       "</table>\n",
       "<p>26792341 rows × 3 columns</p>\n",
       "</div>"
      ],
      "text/plain": [
       "              time state                                            message\n",
       "28        15:57:40  INFO  Timeframe #239 received from 172.20.22.20  ack...\n",
       "29        15:57:40  INFO  Timeframe #233 received from 172.20.22.26  ack...\n",
       "30        15:57:40  INFO  Timeframe #242 received from 172.20.22.29  ack...\n",
       "31        15:57:40  INFO  Timeframe #251 received from 172.20.22.20  ack...\n",
       "32        15:57:41  INFO  Timeframe #237 received from 172.20.22.22  ack...\n",
       "...            ...   ...                                                ...\n",
       "28188318  07:59:42  INFO  Timeframe #17303 received from 172.20.22.31  a...\n",
       "28188319  07:59:42  INFO  Timeframe #17304 received from 172.20.22.31  a...\n",
       "28188320  07:59:42  INFO  Timeframe #17305 received from 172.20.22.31  a...\n",
       "28188321  07:59:42  INFO  Timeframe #17306 received from 172.20.22.31  a...\n",
       "28188322  07:59:42  INFO  Timeframe #17307 received from 172.20.22.31  a...\n",
       "\n",
       "[26792341 rows x 3 columns]"
      ]
     },
     "execution_count": 8,
     "metadata": {},
     "output_type": "execute_result"
    }
   ],
   "source": [
    "test = df.loc[df[\"message\"].str.contains(\"Timeframe\")]\n",
    "test"
   ]
  },
  {
   "cell_type": "markdown",
   "id": "a5a301fa-6ff1-458e-b605-7f5a4609a75e",
   "metadata": {},
   "source": [
    "Check every row to see if the string contaisn `Timeframe`. I want that so that i can seperate that string into more usefull columns"
   ]
  },
  {
   "cell_type": "code",
   "execution_count": 9,
   "id": "8b760596-998b-4eb0-9d94-9baaa1a192b0",
   "metadata": {},
   "outputs": [
    {
     "name": "stderr",
     "output_type": "stream",
     "text": [
      "C:\\Users\\jelle\\AppData\\Local\\Temp\\ipykernel_4776\\1551407146.py:1: SettingWithCopyWarning: \n",
      "A value is trying to be set on a copy of a slice from a DataFrame.\n",
      "Try using .loc[row_indexer,col_indexer] = value instead\n",
      "\n",
      "See the caveats in the documentation: https://pandas.pydata.org/pandas-docs/stable/user_guide/indexing.html#returning-a-view-versus-a-copy\n",
      "  test[[\"Type\", \"ID\", \"IP\", \"time1\", \"time_value\"]] = test[\"message\"].str.extract(r\"(Timeframe)\\s+#(\\d+).*?(\\d{1,3}\\.\\d{1,3}\\.\\d{1,3}\\.\\d{1,3}).*?(\\d+)\\s+([a-zA-ZÎ¼s]+)\")\n",
      "C:\\Users\\jelle\\AppData\\Local\\Temp\\ipykernel_4776\\1551407146.py:1: SettingWithCopyWarning: \n",
      "A value is trying to be set on a copy of a slice from a DataFrame.\n",
      "Try using .loc[row_indexer,col_indexer] = value instead\n",
      "\n",
      "See the caveats in the documentation: https://pandas.pydata.org/pandas-docs/stable/user_guide/indexing.html#returning-a-view-versus-a-copy\n",
      "  test[[\"Type\", \"ID\", \"IP\", \"time1\", \"time_value\"]] = test[\"message\"].str.extract(r\"(Timeframe)\\s+#(\\d+).*?(\\d{1,3}\\.\\d{1,3}\\.\\d{1,3}\\.\\d{1,3}).*?(\\d+)\\s+([a-zA-ZÎ¼s]+)\")\n",
      "C:\\Users\\jelle\\AppData\\Local\\Temp\\ipykernel_4776\\1551407146.py:1: SettingWithCopyWarning: \n",
      "A value is trying to be set on a copy of a slice from a DataFrame.\n",
      "Try using .loc[row_indexer,col_indexer] = value instead\n",
      "\n",
      "See the caveats in the documentation: https://pandas.pydata.org/pandas-docs/stable/user_guide/indexing.html#returning-a-view-versus-a-copy\n",
      "  test[[\"Type\", \"ID\", \"IP\", \"time1\", \"time_value\"]] = test[\"message\"].str.extract(r\"(Timeframe)\\s+#(\\d+).*?(\\d{1,3}\\.\\d{1,3}\\.\\d{1,3}\\.\\d{1,3}).*?(\\d+)\\s+([a-zA-ZÎ¼s]+)\")\n",
      "C:\\Users\\jelle\\AppData\\Local\\Temp\\ipykernel_4776\\1551407146.py:1: SettingWithCopyWarning: \n",
      "A value is trying to be set on a copy of a slice from a DataFrame.\n",
      "Try using .loc[row_indexer,col_indexer] = value instead\n",
      "\n",
      "See the caveats in the documentation: https://pandas.pydata.org/pandas-docs/stable/user_guide/indexing.html#returning-a-view-versus-a-copy\n",
      "  test[[\"Type\", \"ID\", \"IP\", \"time1\", \"time_value\"]] = test[\"message\"].str.extract(r\"(Timeframe)\\s+#(\\d+).*?(\\d{1,3}\\.\\d{1,3}\\.\\d{1,3}\\.\\d{1,3}).*?(\\d+)\\s+([a-zA-ZÎ¼s]+)\")\n",
      "C:\\Users\\jelle\\AppData\\Local\\Temp\\ipykernel_4776\\1551407146.py:1: SettingWithCopyWarning: \n",
      "A value is trying to be set on a copy of a slice from a DataFrame.\n",
      "Try using .loc[row_indexer,col_indexer] = value instead\n",
      "\n",
      "See the caveats in the documentation: https://pandas.pydata.org/pandas-docs/stable/user_guide/indexing.html#returning-a-view-versus-a-copy\n",
      "  test[[\"Type\", \"ID\", \"IP\", \"time1\", \"time_value\"]] = test[\"message\"].str.extract(r\"(Timeframe)\\s+#(\\d+).*?(\\d{1,3}\\.\\d{1,3}\\.\\d{1,3}\\.\\d{1,3}).*?(\\d+)\\s+([a-zA-ZÎ¼s]+)\")\n",
      "C:\\Users\\jelle\\AppData\\Local\\Temp\\ipykernel_4776\\1551407146.py:2: SettingWithCopyWarning: \n",
      "A value is trying to be set on a copy of a slice from a DataFrame.\n",
      "Try using .loc[row_indexer,col_indexer] = value instead\n",
      "\n",
      "See the caveats in the documentation: https://pandas.pydata.org/pandas-docs/stable/user_guide/indexing.html#returning-a-view-versus-a-copy\n",
      "  test[\"time\"] = df[\"time\"]\n"
     ]
    }
   ],
   "source": [
    "test[[\"Type\", \"ID\", \"IP\", \"time1\", \"time_value\"]] = test[\"message\"].str.extract(r\"(Timeframe)\\s+#(\\d+).*?(\\d{1,3}\\.\\d{1,3}\\.\\d{1,3}\\.\\d{1,3}).*?(\\d+)\\s+([a-zA-ZÎ¼s]+)\")\n",
    "test[\"time\"] = df[\"time\"]"
   ]
  },
  {
   "cell_type": "markdown",
   "id": "cf56c932-006d-466d-896f-755e4c1d9261",
   "metadata": {},
   "source": [
    "Using regex to strip the string into some usefull parts.\n",
    "* The `type` column has `Timeframe`\n",
    "* The `ID` column, well you guesed it. Has the ID of the Timeframe\n",
    "* The `IP` column has the ip\n",
    "* the `time` column has the time of the entry being put in the log file\n",
    "* the `time_value` column has this weird character: Î¼s indicating that the time is in micro seconds i think"
   ]
  },
  {
   "cell_type": "code",
   "execution_count": 10,
   "id": "eb3c8ba2-8607-4d85-aaac-43a7990eb4a6",
   "metadata": {},
   "outputs": [
    {
     "data": {
      "text/html": [
       "<div>\n",
       "<style scoped>\n",
       "    .dataframe tbody tr th:only-of-type {\n",
       "        vertical-align: middle;\n",
       "    }\n",
       "\n",
       "    .dataframe tbody tr th {\n",
       "        vertical-align: top;\n",
       "    }\n",
       "\n",
       "    .dataframe thead th {\n",
       "        text-align: right;\n",
       "    }\n",
       "</style>\n",
       "<table border=\"1\" class=\"dataframe\">\n",
       "  <thead>\n",
       "    <tr style=\"text-align: right;\">\n",
       "      <th></th>\n",
       "      <th>time</th>\n",
       "      <th>state</th>\n",
       "      <th>message</th>\n",
       "      <th>Type</th>\n",
       "      <th>ID</th>\n",
       "      <th>IP</th>\n",
       "      <th>time1</th>\n",
       "      <th>time_value</th>\n",
       "    </tr>\n",
       "  </thead>\n",
       "  <tbody>\n",
       "    <tr>\n",
       "      <th>28</th>\n",
       "      <td>15:57:40</td>\n",
       "      <td>INFO</td>\n",
       "      <td>Timeframe #239 received from 172.20.22.20  ack...</td>\n",
       "      <td>Timeframe</td>\n",
       "      <td>239</td>\n",
       "      <td>172.20.22.20</td>\n",
       "      <td>980783</td>\n",
       "      <td>Î¼s</td>\n",
       "    </tr>\n",
       "    <tr>\n",
       "      <th>29</th>\n",
       "      <td>15:57:40</td>\n",
       "      <td>INFO</td>\n",
       "      <td>Timeframe #233 received from 172.20.22.26  ack...</td>\n",
       "      <td>Timeframe</td>\n",
       "      <td>233</td>\n",
       "      <td>172.20.22.26</td>\n",
       "      <td>1147507</td>\n",
       "      <td>Î¼s</td>\n",
       "    </tr>\n",
       "    <tr>\n",
       "      <th>30</th>\n",
       "      <td>15:57:40</td>\n",
       "      <td>INFO</td>\n",
       "      <td>Timeframe #242 received from 172.20.22.29  ack...</td>\n",
       "      <td>Timeframe</td>\n",
       "      <td>242</td>\n",
       "      <td>172.20.22.29</td>\n",
       "      <td>1041694</td>\n",
       "      <td>Î¼s</td>\n",
       "    </tr>\n",
       "    <tr>\n",
       "      <th>31</th>\n",
       "      <td>15:57:40</td>\n",
       "      <td>INFO</td>\n",
       "      <td>Timeframe #251 received from 172.20.22.20  ack...</td>\n",
       "      <td>Timeframe</td>\n",
       "      <td>251</td>\n",
       "      <td>172.20.22.20</td>\n",
       "      <td>863585</td>\n",
       "      <td>Î¼s</td>\n",
       "    </tr>\n",
       "    <tr>\n",
       "      <th>32</th>\n",
       "      <td>15:57:41</td>\n",
       "      <td>INFO</td>\n",
       "      <td>Timeframe #237 received from 172.20.22.22  ack...</td>\n",
       "      <td>Timeframe</td>\n",
       "      <td>237</td>\n",
       "      <td>172.20.22.22</td>\n",
       "      <td>1191617</td>\n",
       "      <td>Î¼s</td>\n",
       "    </tr>\n",
       "    <tr>\n",
       "      <th>...</th>\n",
       "      <td>...</td>\n",
       "      <td>...</td>\n",
       "      <td>...</td>\n",
       "      <td>...</td>\n",
       "      <td>...</td>\n",
       "      <td>...</td>\n",
       "      <td>...</td>\n",
       "      <td>...</td>\n",
       "    </tr>\n",
       "    <tr>\n",
       "      <th>28188318</th>\n",
       "      <td>07:59:42</td>\n",
       "      <td>INFO</td>\n",
       "      <td>Timeframe #17303 received from 172.20.22.31  a...</td>\n",
       "      <td>Timeframe</td>\n",
       "      <td>17303</td>\n",
       "      <td>172.20.22.31</td>\n",
       "      <td>78060946</td>\n",
       "      <td>Î¼s</td>\n",
       "    </tr>\n",
       "    <tr>\n",
       "      <th>28188319</th>\n",
       "      <td>07:59:42</td>\n",
       "      <td>INFO</td>\n",
       "      <td>Timeframe #17304 received from 172.20.22.31  a...</td>\n",
       "      <td>Timeframe</td>\n",
       "      <td>17304</td>\n",
       "      <td>172.20.22.31</td>\n",
       "      <td>78072833</td>\n",
       "      <td>Î¼s</td>\n",
       "    </tr>\n",
       "    <tr>\n",
       "      <th>28188320</th>\n",
       "      <td>07:59:42</td>\n",
       "      <td>INFO</td>\n",
       "      <td>Timeframe #17305 received from 172.20.22.31  a...</td>\n",
       "      <td>Timeframe</td>\n",
       "      <td>17305</td>\n",
       "      <td>172.20.22.31</td>\n",
       "      <td>78079380</td>\n",
       "      <td>Î¼s</td>\n",
       "    </tr>\n",
       "    <tr>\n",
       "      <th>28188321</th>\n",
       "      <td>07:59:42</td>\n",
       "      <td>INFO</td>\n",
       "      <td>Timeframe #17306 received from 172.20.22.31  a...</td>\n",
       "      <td>Timeframe</td>\n",
       "      <td>17306</td>\n",
       "      <td>172.20.22.31</td>\n",
       "      <td>78100223</td>\n",
       "      <td>Î¼s</td>\n",
       "    </tr>\n",
       "    <tr>\n",
       "      <th>28188322</th>\n",
       "      <td>07:59:42</td>\n",
       "      <td>INFO</td>\n",
       "      <td>Timeframe #17307 received from 172.20.22.31  a...</td>\n",
       "      <td>Timeframe</td>\n",
       "      <td>17307</td>\n",
       "      <td>172.20.22.31</td>\n",
       "      <td>78135913</td>\n",
       "      <td>Î¼s</td>\n",
       "    </tr>\n",
       "  </tbody>\n",
       "</table>\n",
       "<p>26792341 rows × 8 columns</p>\n",
       "</div>"
      ],
      "text/plain": [
       "              time state                                            message  \\\n",
       "28        15:57:40  INFO  Timeframe #239 received from 172.20.22.20  ack...   \n",
       "29        15:57:40  INFO  Timeframe #233 received from 172.20.22.26  ack...   \n",
       "30        15:57:40  INFO  Timeframe #242 received from 172.20.22.29  ack...   \n",
       "31        15:57:40  INFO  Timeframe #251 received from 172.20.22.20  ack...   \n",
       "32        15:57:41  INFO  Timeframe #237 received from 172.20.22.22  ack...   \n",
       "...            ...   ...                                                ...   \n",
       "28188318  07:59:42  INFO  Timeframe #17303 received from 172.20.22.31  a...   \n",
       "28188319  07:59:42  INFO  Timeframe #17304 received from 172.20.22.31  a...   \n",
       "28188320  07:59:42  INFO  Timeframe #17305 received from 172.20.22.31  a...   \n",
       "28188321  07:59:42  INFO  Timeframe #17306 received from 172.20.22.31  a...   \n",
       "28188322  07:59:42  INFO  Timeframe #17307 received from 172.20.22.31  a...   \n",
       "\n",
       "               Type     ID            IP     time1 time_value  \n",
       "28        Timeframe    239  172.20.22.20    980783        Î¼s  \n",
       "29        Timeframe    233  172.20.22.26   1147507        Î¼s  \n",
       "30        Timeframe    242  172.20.22.29   1041694        Î¼s  \n",
       "31        Timeframe    251  172.20.22.20    863585        Î¼s  \n",
       "32        Timeframe    237  172.20.22.22   1191617        Î¼s  \n",
       "...             ...    ...           ...       ...        ...  \n",
       "28188318  Timeframe  17303  172.20.22.31  78060946        Î¼s  \n",
       "28188319  Timeframe  17304  172.20.22.31  78072833        Î¼s  \n",
       "28188320  Timeframe  17305  172.20.22.31  78079380        Î¼s  \n",
       "28188321  Timeframe  17306  172.20.22.31  78100223        Î¼s  \n",
       "28188322  Timeframe  17307  172.20.22.31  78135913        Î¼s  \n",
       "\n",
       "[26792341 rows x 8 columns]"
      ]
     },
     "execution_count": 10,
     "metadata": {},
     "output_type": "execute_result"
    }
   ],
   "source": [
    "test"
   ]
  },
  {
   "cell_type": "code",
   "execution_count": 11,
   "id": "ba145f1e-5554-4fe6-af5c-855b70980427",
   "metadata": {},
   "outputs": [
    {
     "data": {
      "text/plain": [
       "array(['172.20.22.20', '172.20.22.26', '172.20.22.29', '172.20.22.22',\n",
       "       '172.20.22.24', '172.20.22.25', '172.20.22.31', '172.20.22.23',\n",
       "       '172.20.22.27', '172.20.22.28', '172.20.22.30', '172.20.22.21'],\n",
       "      dtype=object)"
      ]
     },
     "execution_count": 11,
     "metadata": {},
     "output_type": "execute_result"
    }
   ],
   "source": [
    "test[\"IP\"].unique()"
   ]
  },
  {
   "cell_type": "markdown",
   "id": "58d9cb0f-0b23-4550-b96d-1bc1f063519e",
   "metadata": {},
   "source": [
    "Get all the unique ip's that are in the data to get a better understanding of the ip's used"
   ]
  },
  {
   "cell_type": "code",
   "execution_count": 12,
   "id": "6987f887-9a51-4bd9-83cc-bd451ba2687b",
   "metadata": {},
   "outputs": [
    {
     "data": {
      "text/plain": [
       "dtype('<M8[ns]')"
      ]
     },
     "execution_count": 12,
     "metadata": {},
     "output_type": "execute_result"
    }
   ],
   "source": [
    "\n",
    "df['time'] = pd.to_datetime(df['time'], format='%H:%M:%S')\n",
    "df[\"time\"].dtypes\n",
    "# df"
   ]
  },
  {
   "cell_type": "code",
   "execution_count": 13,
   "id": "bdb96c1e-2e0a-492c-a01e-03e62bfff2a7",
   "metadata": {},
   "outputs": [
    {
     "data": {
      "text/html": [
       "<div>\n",
       "<style scoped>\n",
       "    .dataframe tbody tr th:only-of-type {\n",
       "        vertical-align: middle;\n",
       "    }\n",
       "\n",
       "    .dataframe tbody tr th {\n",
       "        vertical-align: top;\n",
       "    }\n",
       "\n",
       "    .dataframe thead th {\n",
       "        text-align: right;\n",
       "    }\n",
       "</style>\n",
       "<table border=\"1\" class=\"dataframe\">\n",
       "  <thead>\n",
       "    <tr style=\"text-align: right;\">\n",
       "      <th></th>\n",
       "      <th>time</th>\n",
       "      <th>state</th>\n",
       "      <th>message</th>\n",
       "    </tr>\n",
       "  </thead>\n",
       "  <tbody>\n",
       "    <tr>\n",
       "      <th>13041599</th>\n",
       "      <td>1900-01-01 00:03:01</td>\n",
       "      <td>STAT</td>\n",
       "      <td>Starting FairMQ state machine</td>\n",
       "    </tr>\n",
       "    <tr>\n",
       "      <th>13041600</th>\n",
       "      <td>1900-01-01 00:03:01</td>\n",
       "      <td>DEBU</td>\n",
       "      <td>Requesting 'zeromq' as default transport for t...</td>\n",
       "    </tr>\n",
       "    <tr>\n",
       "      <th>13041601</th>\n",
       "      <td>1900-01-01 00:03:01</td>\n",
       "      <td>DEBU</td>\n",
       "      <td>Transport: Using ZeroMQ library, version: 4.2.0</td>\n",
       "    </tr>\n",
       "    <tr>\n",
       "      <th>13041602</th>\n",
       "      <td>1900-01-01 00:03:01</td>\n",
       "      <td>DEBU</td>\n",
       "      <td>Adding 'zeromq' transport to the device.</td>\n",
       "    </tr>\n",
       "    <tr>\n",
       "      <th>13041603</th>\n",
       "      <td>1900-01-01 00:03:01</td>\n",
       "      <td>STAT</td>\n",
       "      <td>Entering INITIALIZING DEVICE state</td>\n",
       "    </tr>\n",
       "    <tr>\n",
       "      <th>...</th>\n",
       "      <td>...</td>\n",
       "      <td>...</td>\n",
       "      <td>...</td>\n",
       "    </tr>\n",
       "    <tr>\n",
       "      <th>12819287</th>\n",
       "      <td>1900-01-01 23:50:00</td>\n",
       "      <td>INFO</td>\n",
       "      <td>Timeframe #6668 received from 172.20.22.27  ac...</td>\n",
       "    </tr>\n",
       "    <tr>\n",
       "      <th>12819288</th>\n",
       "      <td>1900-01-01 23:50:00</td>\n",
       "      <td>INFO</td>\n",
       "      <td>Timeframe #6723 received from 172.20.22.28  ac...</td>\n",
       "    </tr>\n",
       "    <tr>\n",
       "      <th>12819289</th>\n",
       "      <td>1900-01-01 23:50:00</td>\n",
       "      <td>INFO</td>\n",
       "      <td>Timeframe #6726 received from 172.20.22.25  ac...</td>\n",
       "    </tr>\n",
       "    <tr>\n",
       "      <th>12819290</th>\n",
       "      <td>1900-01-01 23:50:00</td>\n",
       "      <td>INFO</td>\n",
       "      <td>Timeframe #6672 received from 172.20.22.31  ac...</td>\n",
       "    </tr>\n",
       "    <tr>\n",
       "      <th>12819291</th>\n",
       "      <td>1900-01-01 23:50:00</td>\n",
       "      <td>INFO</td>\n",
       "      <td>Timeframe #6676 received from 172.20.22.27  ac...</td>\n",
       "    </tr>\n",
       "  </tbody>\n",
       "</table>\n",
       "<p>485 rows × 3 columns</p>\n",
       "</div>"
      ],
      "text/plain": [
       "                        time state  \\\n",
       "13041599 1900-01-01 00:03:01  STAT   \n",
       "13041600 1900-01-01 00:03:01  DEBU   \n",
       "13041601 1900-01-01 00:03:01  DEBU   \n",
       "13041602 1900-01-01 00:03:01  DEBU   \n",
       "13041603 1900-01-01 00:03:01  STAT   \n",
       "...                      ...   ...   \n",
       "12819287 1900-01-01 23:50:00  INFO   \n",
       "12819288 1900-01-01 23:50:00  INFO   \n",
       "12819289 1900-01-01 23:50:00  INFO   \n",
       "12819290 1900-01-01 23:50:00  INFO   \n",
       "12819291 1900-01-01 23:50:00  INFO   \n",
       "\n",
       "                                                    message  \n",
       "13041599                      Starting FairMQ state machine  \n",
       "13041600  Requesting 'zeromq' as default transport for t...  \n",
       "13041601    Transport: Using ZeroMQ library, version: 4.2.0  \n",
       "13041602           Adding 'zeromq' transport to the device.  \n",
       "13041603                 Entering INITIALIZING DEVICE state  \n",
       "...                                                     ...  \n",
       "12819287  Timeframe #6668 received from 172.20.22.27  ac...  \n",
       "12819288  Timeframe #6723 received from 172.20.22.28  ac...  \n",
       "12819289  Timeframe #6726 received from 172.20.22.25  ac...  \n",
       "12819290  Timeframe #6672 received from 172.20.22.31  ac...  \n",
       "12819291  Timeframe #6676 received from 172.20.22.27  ac...  \n",
       "\n",
       "[485 rows x 3 columns]"
      ]
     },
     "execution_count": 13,
     "metadata": {},
     "output_type": "execute_result"
    }
   ],
   "source": [
    "df.groupby(pd.Grouper(key=\"time\", freq=\"10Min\")).head()"
   ]
  },
  {
   "cell_type": "code",
   "execution_count": 14,
   "id": "987846e6-001f-4450-8117-ec638fc8204f",
   "metadata": {},
   "outputs": [
    {
     "data": {
      "text/html": [
       "<div>\n",
       "<style scoped>\n",
       "    .dataframe tbody tr th:only-of-type {\n",
       "        vertical-align: middle;\n",
       "    }\n",
       "\n",
       "    .dataframe tbody tr th {\n",
       "        vertical-align: top;\n",
       "    }\n",
       "\n",
       "    .dataframe thead th {\n",
       "        text-align: right;\n",
       "    }\n",
       "</style>\n",
       "<table border=\"1\" class=\"dataframe\">\n",
       "  <thead>\n",
       "    <tr style=\"text-align: right;\">\n",
       "      <th></th>\n",
       "      <th>time</th>\n",
       "      <th>state</th>\n",
       "      <th>message</th>\n",
       "    </tr>\n",
       "  </thead>\n",
       "  <tbody>\n",
       "    <tr>\n",
       "      <th>1</th>\n",
       "      <td>1900-01-01 15:57:35</td>\n",
       "      <td>DEBU</td>\n",
       "      <td>Requesting 'zeromq' as default transport for t...</td>\n",
       "    </tr>\n",
       "    <tr>\n",
       "      <th>2</th>\n",
       "      <td>1900-01-01 15:57:35</td>\n",
       "      <td>DEBU</td>\n",
       "      <td>Transport: Using ZeroMQ library, version: 4.2.0</td>\n",
       "    </tr>\n",
       "    <tr>\n",
       "      <th>3</th>\n",
       "      <td>1900-01-01 15:57:35</td>\n",
       "      <td>DEBU</td>\n",
       "      <td>Adding 'zeromq' transport to the device.</td>\n",
       "    </tr>\n",
       "    <tr>\n",
       "      <th>5</th>\n",
       "      <td>1900-01-01 15:57:35</td>\n",
       "      <td>DEBU</td>\n",
       "      <td>Validating channel \"ack[0]\"... VALID</td>\n",
       "    </tr>\n",
       "    <tr>\n",
       "      <th>6</th>\n",
       "      <td>1900-01-01 15:57:35</td>\n",
       "      <td>DEBU</td>\n",
       "      <td>ack[0]: using default transport</td>\n",
       "    </tr>\n",
       "    <tr>\n",
       "      <th>...</th>\n",
       "      <td>...</td>\n",
       "      <td>...</td>\n",
       "      <td>...</td>\n",
       "    </tr>\n",
       "    <tr>\n",
       "      <th>28188255</th>\n",
       "      <td>1900-01-01 07:59:39</td>\n",
       "      <td>DEBU</td>\n",
       "      <td>stf1[0]: in: 0 msg (0 MB), out: 50 msg (0.0001...</td>\n",
       "    </tr>\n",
       "    <tr>\n",
       "      <th>28188284</th>\n",
       "      <td>1900-01-01 07:59:40</td>\n",
       "      <td>DEBU</td>\n",
       "      <td>ack[0]: in: 28 msg (0.000504 MB), out: 0 msg (...</td>\n",
       "    </tr>\n",
       "    <tr>\n",
       "      <th>28188285</th>\n",
       "      <td>1900-01-01 07:59:40</td>\n",
       "      <td>DEBU</td>\n",
       "      <td>stf1[0]: in: 0 msg (0 MB), out: 50 msg (0.0001...</td>\n",
       "    </tr>\n",
       "    <tr>\n",
       "      <th>28188312</th>\n",
       "      <td>1900-01-01 07:59:41</td>\n",
       "      <td>DEBU</td>\n",
       "      <td>ack[0]: in: 26 msg (0.000468 MB), out: 0 msg (...</td>\n",
       "    </tr>\n",
       "    <tr>\n",
       "      <th>28188313</th>\n",
       "      <td>1900-01-01 07:59:41</td>\n",
       "      <td>DEBU</td>\n",
       "      <td>stf1[0]: in: 0 msg (0 MB), out: 49 msg (9.8e-0...</td>\n",
       "    </tr>\n",
       "  </tbody>\n",
       "</table>\n",
       "<p>1384782 rows × 3 columns</p>\n",
       "</div>"
      ],
      "text/plain": [
       "                        time state  \\\n",
       "1        1900-01-01 15:57:35  DEBU   \n",
       "2        1900-01-01 15:57:35  DEBU   \n",
       "3        1900-01-01 15:57:35  DEBU   \n",
       "5        1900-01-01 15:57:35  DEBU   \n",
       "6        1900-01-01 15:57:35  DEBU   \n",
       "...                      ...   ...   \n",
       "28188255 1900-01-01 07:59:39  DEBU   \n",
       "28188284 1900-01-01 07:59:40  DEBU   \n",
       "28188285 1900-01-01 07:59:40  DEBU   \n",
       "28188312 1900-01-01 07:59:41  DEBU   \n",
       "28188313 1900-01-01 07:59:41  DEBU   \n",
       "\n",
       "                                                    message  \n",
       "1         Requesting 'zeromq' as default transport for t...  \n",
       "2           Transport: Using ZeroMQ library, version: 4.2.0  \n",
       "3                  Adding 'zeromq' transport to the device.  \n",
       "5                      Validating channel \"ack[0]\"... VALID  \n",
       "6                           ack[0]: using default transport  \n",
       "...                                                     ...  \n",
       "28188255  stf1[0]: in: 0 msg (0 MB), out: 50 msg (0.0001...  \n",
       "28188284  ack[0]: in: 28 msg (0.000504 MB), out: 0 msg (...  \n",
       "28188285  stf1[0]: in: 0 msg (0 MB), out: 50 msg (0.0001...  \n",
       "28188312  ack[0]: in: 26 msg (0.000468 MB), out: 0 msg (...  \n",
       "28188313  stf1[0]: in: 0 msg (0 MB), out: 49 msg (9.8e-0...  \n",
       "\n",
       "[1384782 rows x 3 columns]"
      ]
     },
     "execution_count": 14,
     "metadata": {},
     "output_type": "execute_result"
    }
   ],
   "source": [
    "test1 = df.loc[~df[\"message\"].str.contains(\"Timeframe\")]\n",
    "test1 = df.loc[df[\"state\"].str.contains(\"DEBU\")]\n",
    "test1"
   ]
  },
  {
   "cell_type": "code",
   "execution_count": 15,
   "id": "dffd097e-cefb-4455-9ce7-76ad89911718",
   "metadata": {},
   "outputs": [
    {
     "data": {
      "text/html": [
       "<div>\n",
       "<style scoped>\n",
       "    .dataframe tbody tr th:only-of-type {\n",
       "        vertical-align: middle;\n",
       "    }\n",
       "\n",
       "    .dataframe tbody tr th {\n",
       "        vertical-align: top;\n",
       "    }\n",
       "\n",
       "    .dataframe thead th {\n",
       "        text-align: right;\n",
       "    }\n",
       "</style>\n",
       "<table border=\"1\" class=\"dataframe\">\n",
       "  <thead>\n",
       "    <tr style=\"text-align: right;\">\n",
       "      <th></th>\n",
       "      <th>time</th>\n",
       "      <th>state</th>\n",
       "      <th>message</th>\n",
       "    </tr>\n",
       "  </thead>\n",
       "  <tbody>\n",
       "    <tr>\n",
       "      <th>1</th>\n",
       "      <td>1900-01-01 15:57:35</td>\n",
       "      <td>DEBU</td>\n",
       "      <td>Requesting 'zeromq' as default transport for t...</td>\n",
       "    </tr>\n",
       "    <tr>\n",
       "      <th>2</th>\n",
       "      <td>1900-01-01 15:57:35</td>\n",
       "      <td>DEBU</td>\n",
       "      <td>Transport: Using ZeroMQ library, version: 4.2.0</td>\n",
       "    </tr>\n",
       "    <tr>\n",
       "      <th>3</th>\n",
       "      <td>1900-01-01 15:57:35</td>\n",
       "      <td>DEBU</td>\n",
       "      <td>Adding 'zeromq' transport to the device.</td>\n",
       "    </tr>\n",
       "    <tr>\n",
       "      <th>5</th>\n",
       "      <td>1900-01-01 15:57:35</td>\n",
       "      <td>DEBU</td>\n",
       "      <td>Validating channel \"ack[0]\"... VALID</td>\n",
       "    </tr>\n",
       "    <tr>\n",
       "      <th>6</th>\n",
       "      <td>1900-01-01 15:57:35</td>\n",
       "      <td>DEBU</td>\n",
       "      <td>ack[0]: using default transport</td>\n",
       "    </tr>\n",
       "    <tr>\n",
       "      <th>7</th>\n",
       "      <td>1900-01-01 15:57:35</td>\n",
       "      <td>DEBU</td>\n",
       "      <td>Attached channel ack[0] to tcp://172.20.22.17:...</td>\n",
       "    </tr>\n",
       "    <tr>\n",
       "      <th>8</th>\n",
       "      <td>1900-01-01 15:57:35</td>\n",
       "      <td>DEBU</td>\n",
       "      <td>Validating channel \"stf1[0]\"... VALID</td>\n",
       "    </tr>\n",
       "    <tr>\n",
       "      <th>9</th>\n",
       "      <td>1900-01-01 15:57:35</td>\n",
       "      <td>DEBU</td>\n",
       "      <td>stf1[0]: using default transport</td>\n",
       "    </tr>\n",
       "    <tr>\n",
       "      <th>10</th>\n",
       "      <td>1900-01-01 15:57:35</td>\n",
       "      <td>DEBU</td>\n",
       "      <td>Attached channel stf1[0] to tcp://172.20.22.17...</td>\n",
       "    </tr>\n",
       "    <tr>\n",
       "      <th>16</th>\n",
       "      <td>1900-01-01 15:57:35</td>\n",
       "      <td>DEBU</td>\n",
       "      <td>ack[0]: in: -nan msg (-nan MB), out: -nan msg ...</td>\n",
       "    </tr>\n",
       "  </tbody>\n",
       "</table>\n",
       "</div>"
      ],
      "text/plain": [
       "                  time state  \\\n",
       "1  1900-01-01 15:57:35  DEBU   \n",
       "2  1900-01-01 15:57:35  DEBU   \n",
       "3  1900-01-01 15:57:35  DEBU   \n",
       "5  1900-01-01 15:57:35  DEBU   \n",
       "6  1900-01-01 15:57:35  DEBU   \n",
       "7  1900-01-01 15:57:35  DEBU   \n",
       "8  1900-01-01 15:57:35  DEBU   \n",
       "9  1900-01-01 15:57:35  DEBU   \n",
       "10 1900-01-01 15:57:35  DEBU   \n",
       "16 1900-01-01 15:57:35  DEBU   \n",
       "\n",
       "                                              message  \n",
       "1   Requesting 'zeromq' as default transport for t...  \n",
       "2     Transport: Using ZeroMQ library, version: 4.2.0  \n",
       "3            Adding 'zeromq' transport to the device.  \n",
       "5                Validating channel \"ack[0]\"... VALID  \n",
       "6                     ack[0]: using default transport  \n",
       "7   Attached channel ack[0] to tcp://172.20.22.17:...  \n",
       "8               Validating channel \"stf1[0]\"... VALID  \n",
       "9                    stf1[0]: using default transport  \n",
       "10  Attached channel stf1[0] to tcp://172.20.22.17...  \n",
       "16  ack[0]: in: -nan msg (-nan MB), out: -nan msg ...  "
      ]
     },
     "execution_count": 15,
     "metadata": {},
     "output_type": "execute_result"
    }
   ],
   "source": [
    "test1.head(10)"
   ]
  },
  {
   "cell_type": "code",
   "execution_count": null,
   "id": "299c30ea-8b4c-47bd-b80c-8594a4f69470",
   "metadata": {},
   "outputs": [],
   "source": []
  },
  {
   "cell_type": "code",
   "execution_count": null,
   "id": "5eacc341-4029-4a99-9afa-0d52abaefcc2",
   "metadata": {},
   "outputs": [],
   "source": []
  },
  {
   "cell_type": "code",
   "execution_count": 16,
   "id": "af148779-e700-42ff-afa0-ca1defa86ac9",
   "metadata": {},
   "outputs": [],
   "source": [
    "G = nx.Graph()\n",
    "G.add_node(1)\n",
    "G.add_nodes_from([2, 3])\n",
    "G.add_edge(1, 2)\n",
    "G.add_edge(3, 1)\n",
    "G.add_edge(2, 4)\n",
    "G.add_edge(4, 1)\n",
    "G.add_edge(9, 1)\n",
    "G.add_edges_from([(1, 2), (1, 3)])"
   ]
  },
  {
   "cell_type": "code",
   "execution_count": 17,
   "id": "bc79a201-ab00-47f4-a54b-0d007ccc2d4b",
   "metadata": {},
   "outputs": [
    {
     "name": "stdout",
     "output_type": "stream",
     "text": [
      "[1, 2, 3, 4, 9]\n"
     ]
    }
   ],
   "source": [
    "node_list = G.nodes()\n",
    "print(node_list)"
   ]
  },
  {
   "cell_type": "code",
   "execution_count": 18,
   "id": "bc40bc15-6907-436e-bd9d-9acf22df4a38",
   "metadata": {},
   "outputs": [],
   "source": [
    "labelsdict = {\n",
    "    1: \"Me\",\n",
    "    2: \"Friend1\",\n",
    "    3: \"Friend2\",\n",
    "    4: \"Friend3\",\n",
    "    9: \"Friend4\"\n",
    "}\n",
    "\n",
    "edgelabels = {\n",
    "    (1, 2): \"Knows\",\n",
    "    (1, 3): \"Colleague\",\n",
    "    (2, 4): \"Neighbor\",\n",
    "    (4, 1): \"Sibling\",\n",
    "    (1, 9): \"Friend\"\n",
    "}"
   ]
  },
  {
   "cell_type": "code",
   "execution_count": 20,
   "id": "2d8b8828-1779-472f-940c-745a06982f86",
   "metadata": {},
   "outputs": [
    {
     "ename": "TypeError",
     "evalue": "draw_networkx_edge_labels() missing 1 required positional argument: 'pos'",
     "output_type": "error",
     "traceback": [
      "\u001b[1;31m---------------------------------------------------------------------------\u001b[0m",
      "\u001b[1;31mTypeError\u001b[0m                                 Traceback (most recent call last)",
      "Cell \u001b[1;32mIn[20], line 2\u001b[0m\n\u001b[0;32m      1\u001b[0m nx\u001b[38;5;241m.\u001b[39mdraw(G, labels\u001b[38;5;241m=\u001b[39mlabelsdict, with_labels\u001b[38;5;241m=\u001b[39m\u001b[38;5;28;01mTrue\u001b[39;00m, node_color\u001b[38;5;241m=\u001b[39m\u001b[38;5;124m\"\u001b[39m\u001b[38;5;124mlightblue\u001b[39m\u001b[38;5;124m\"\u001b[39m, edge_color\u001b[38;5;241m=\u001b[39m\u001b[38;5;124m\"\u001b[39m\u001b[38;5;124mgray\u001b[39m\u001b[38;5;124m\"\u001b[39m)\n\u001b[1;32m----> 2\u001b[0m \u001b[43mnx\u001b[49m\u001b[38;5;241;43m.\u001b[39;49m\u001b[43mdraw_networkx_edge_labels\u001b[49m\u001b[43m(\u001b[49m\u001b[43mG\u001b[49m\u001b[43m,\u001b[49m\u001b[43m \u001b[49m\u001b[43medge_labels\u001b[49m\u001b[38;5;241;43m=\u001b[39;49m\u001b[43medgelabels\u001b[49m\u001b[43m)\u001b[49m\n\u001b[0;32m      3\u001b[0m plt\u001b[38;5;241m.\u001b[39mshow()\n",
      "\u001b[1;31mTypeError\u001b[0m: draw_networkx_edge_labels() missing 1 required positional argument: 'pos'"
     ]
    },
    {
     "data": {
      "image/png": "[encoded data removed]",
      "text/plain": [
       "<Figure size 640x480 with 1 Axes>"
      ]
     },
     "metadata": {},
     "output_type": "display_data"
    }
   ],
   "source": [
    "nx.draw(G, labels=labelsdict, with_labels=True, node_color=\"lightblue\", edge_color=\"gray\")\n",
    "nx.draw_networkx_edge_labels(G, edge_labels=edgelabels)\n",
    "plt.show()\n"
   ]
  },
  {
   "cell_type": "code",
   "execution_count": 21,
   "id": "a4ef0960-5456-4eca-905f-c99c9499a13f",
   "metadata": {},
   "outputs": [],
   "source": [
    "ip_dict = {}"
   ]
  },
  {
   "cell_type": "code",
   "execution_count": 22,
   "id": "1e1c5cb8-419b-46bd-937e-851045015136",
   "metadata": {},
   "outputs": [],
   "source": [
    "ips = test[\"IP\"].unique()"
   ]
  },
  {
   "cell_type": "code",
   "execution_count": 23,
   "id": "c24c34bb-48d2-4f6a-8624-1d81087b6513",
   "metadata": {},
   "outputs": [],
   "source": [
    "G = nx.Graph()\n",
    "G.add_node(\"me\")\n"
   ]
  },
  {
   "cell_type": "code",
   "execution_count": 24,
   "id": "a1869aed-43c4-49b9-8f91-f4befc05b4a9",
   "metadata": {},
   "outputs": [
    {
     "name": "stdout",
     "output_type": "stream",
     "text": [
      "{0: '172.20.22.20', 1: '172.20.22.26', 2: '172.20.22.29', 3: '172.20.22.22', 4: '172.20.22.24', 5: '172.20.22.25', 6: '172.20.22.31', 7: '172.20.22.23', 8: '172.20.22.27', 9: '172.20.22.28', 10: '172.20.22.30', 11: '172.20.22.21', 'me': 'Root'}\n"
     ]
    }
   ],
   "source": [
    "number = 0\n",
    "for ip in ips:\n",
    "    ip_dict[number] = ip\n",
    "    G.add_node(number)\n",
    "    G.add_edge(\"me\", number)\n",
    "    number += 1\n",
    "ip_dict[\"me\"] = \"Root\"\n",
    "print(ip_dict)"
   ]
  },
  {
   "cell_type": "code",
   "execution_count": 25,
   "id": "880278fd-88c9-406e-b0bf-baa3ae47c884",
   "metadata": {},
   "outputs": [
    {
     "name": "stdout",
     "output_type": "stream",
     "text": [
      "['me', 0, 1, 2, 3, 4, 5, 6, 7, 8, 9, 10, 11]\n"
     ]
    }
   ],
   "source": [
    "node_list = G.nodes()\n",
    "print(node_list)\n"
   ]
  },
  {
   "cell_type": "code",
   "execution_count": 26,
   "id": "40d6e419-c640-46f4-b61b-35f8ab028cf4",
   "metadata": {},
   "outputs": [
    {
     "data": {
      "image/png": "[encoded data removed]",
      "text/plain": [
       "<Figure size 640x480 with 1 Axes>"
      ]
     },
     "metadata": {},
     "output_type": "display_data"
    }
   ],
   "source": [
    "for node in range(len(node_list)-1):\n",
    "    G.add_edge(\"me\", node)\n",
    "    \n",
    "nx.draw(G, with_labels=True, labels=ip_dict)"
   ]
  },
  {
   "cell_type": "code",
   "execution_count": null,
   "id": "099c3f9a-9436-4cf2-b670-eb1a7f0d1bbd",
   "metadata": {},
   "outputs": [],
   "source": []
  },
  {
   "cell_type": "code",
   "execution_count": 27,
   "id": "793946c8-299d-4a70-81c2-b9b6efefbdd1",
   "metadata": {},
   "outputs": [
    {
     "data": {
      "text/plain": [
       "IP\n",
       "172.20.22.20      370693\n",
       "172.20.22.21      510571\n",
       "172.20.22.22      666705\n",
       "172.20.22.23      839441\n",
       "172.20.22.24     1035525\n",
       "172.20.22.25     1256800\n",
       "172.20.22.26     1517510\n",
       "172.20.22.27     1826279\n",
       "172.20.22.28     2211048\n",
       "172.20.22.29     2726402\n",
       "172.20.22.30     3498766\n",
       "172.20.22.31    10332601\n",
       "dtype: int64"
      ]
     },
     "execution_count": 27,
     "metadata": {},
     "output_type": "execute_result"
    }
   ],
   "source": [
    "test.groupby(\"IP\").size()"
   ]
  },
  {
   "cell_type": "code",
   "execution_count": null,
   "id": "f1220a72-ef1b-4fba-9c44-b56984696221",
   "metadata": {},
   "outputs": [],
   "source": []
  },
  {
   "cell_type": "code",
   "execution_count": null,
   "id": "53f2258f-449a-4939-8699-6a2b289e2f73",
   "metadata": {},
   "outputs": [],
   "source": []
  }
 ],
 "metadata": {
  "kernelspec": {
   "display_name": "Python 3 (ipykernel)",
   "language": "python",
   "name": "python3"
  },
  "language_info": {
   "codemirror_mode": {
    "name": "ipython",
    "version": 3
   },
   "file_extension": ".py",
   "mimetype": "text/x-python",
   "name": "python",
   "nbconvert_exporter": "python",
   "pygments_lexer": "ipython3",
   "version": "3.12.3"
  }
 },
 "nbformat": 4,
 "nbformat_minor": 5
}
